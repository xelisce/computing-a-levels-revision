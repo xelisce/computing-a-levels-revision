{
 "cells": [
  {
   "cell_type": "markdown",
   "metadata": {},
   "source": [
    "# Sorting Algorithms"
   ]
  },
  {
   "cell_type": "markdown",
   "metadata": {},
   "source": [
    "## Bubble Sort"
   ]
  },
  {
   "cell_type": "markdown",
   "metadata": {},
   "source": [
    "### Least lines of code"
   ]
  },
  {
   "cell_type": "code",
   "execution_count": null,
   "metadata": {},
   "outputs": [],
   "source": [
    "def bubble_sort(arr):\n",
    "    for i in range(len(arr)):\n",
    "        for j in range(i+1, len(arr)):\n",
    "            if arr[i] > arr[j]:\n",
    "                arr[i], arr[j] = arr[j], arr[i]\n",
    "    return arr\n",
    "\n",
    "bubble_sort([2, 8, 1, 9, 3])"
   ]
  },
  {
   "cell_type": "markdown",
   "metadata": {},
   "source": [
    "### Most optimal runtime"
   ]
  },
  {
   "cell_type": "code",
   "execution_count": null,
   "metadata": {},
   "outputs": [],
   "source": [
    "def bubble_sort(arr):\n",
    "    swapflag = True\n",
    "    passes = 0\n",
    "    while swapflag:\n",
    "        swapflag = False\n",
    "        passes += 1\n",
    "        for i in range(len(arr)-passes):\n",
    "            if arr[i] > arr[i+1]:\n",
    "                arr[i], arr[i+1] = arr[i+1], arr[i]\n",
    "                swapflag = True\n",
    "    return arr\n",
    "\n",
    "bubble_sort([2, 8, 1, 9, 3])"
   ]
  },
  {
   "cell_type": "markdown",
   "metadata": {},
   "source": [
    "## Merge Sort"
   ]
  },
  {
   "cell_type": "markdown",
   "metadata": {},
   "source": [
    "### In one function"
   ]
  },
  {
   "cell_type": "code",
   "execution_count": null,
   "metadata": {},
   "outputs": [],
   "source": [
    "def merge_sort(arr):\n",
    "    #merge sort portion\n",
    "    if len(arr) > 1:\n",
    "        mid = len(arr)//2\n",
    "        left = arr[:mid]\n",
    "        right = arr[mid:]\n",
    "        merge_sort(left)\n",
    "        merge_sort(right)\n",
    "        #merge portion\n",
    "        i = j = k = 0\n",
    "        while i < len(left) and j < len(right):\n",
    "            if left[i] < right[j]:\n",
    "                arr[k] = left[i]\n",
    "                i += 1\n",
    "            else:\n",
    "                arr[k] = right[j]\n",
    "                j += 1\n",
    "            k += 1\n",
    "        while i < len(left):\n",
    "            arr[k] = left[i]\n",
    "            i += 1\n",
    "            k += 1\n",
    "        while j < len(right):\n",
    "            arr[k] = right[j]\n",
    "            j += 1\n",
    "            k += 1\n",
    "    #if length is 1 immediately return\n",
    "    return arr\n",
    "\n",
    "merge_sort([2, 8, 1, 9, 3])\n"
   ]
  },
  {
   "cell_type": "markdown",
   "metadata": {},
   "source": [
    "### In two functions"
   ]
  },
  {
   "cell_type": "code",
   "execution_count": null,
   "metadata": {},
   "outputs": [],
   "source": [
    "def merge_sort(arr):\n",
    "    if len(arr) == 1:\n",
    "        return arr\n",
    "    mid = len(arr)//2\n",
    "    left = merge_sort(arr[:mid])\n",
    "    right = merge_sort(arr[mid:])\n",
    "    return merge(left, right)\n",
    "\n",
    "def merge(left, right):\n",
    "    combine = []\n",
    "    while len(left) and len(right):\n",
    "        if left[0] < right[0]:\n",
    "            combine.append(left.pop(0))\n",
    "        else:\n",
    "            combine.append(right.pop(0))\n",
    "    combine += left\n",
    "    combine += right\n",
    "    return combine\n",
    "\n",
    "merge_sort([2, 8, 1, 9, 3])"
   ]
  },
  {
   "cell_type": "markdown",
   "metadata": {},
   "source": [
    "## Insertion Sort"
   ]
  },
  {
   "cell_type": "code",
   "execution_count": null,
   "metadata": {},
   "outputs": [],
   "source": [
    "def insertion_sort(arr):\n",
    "    for index in range(1, len(arr)):\n",
    "        unsorted = arr[index]\n",
    "        while index > 0 and unsorted < arr[index-1]:\n",
    "            arr[index] = arr[index-1]\n",
    "            index -= 1\n",
    "        arr[index] = unsorted\n",
    "    return arr\n",
    "\n",
    "insertion_sort([2, 8, 1, 9, 3])"
   ]
  },
  {
   "cell_type": "markdown",
   "metadata": {},
   "source": [
    "## Quick Sort"
   ]
  },
  {
   "cell_type": "markdown",
   "metadata": {},
   "source": [
    "### Least lines of code"
   ]
  },
  {
   "cell_type": "code",
   "execution_count": null,
   "metadata": {},
   "outputs": [],
   "source": [
    "def quick_sort(arr):\n",
    "    if len(arr) <= 1:\n",
    "        return arr\n",
    "    pivot = arr[0]\n",
    "    left = [x for x in arr[1:] if x < pivot]\n",
    "    right = [x for x in arr[1:] if x >= pivot]\n",
    "    return quick_sort(left) + [pivot] + quick_sort(right)\n",
    "\n",
    "quick_sort([1, 2, 4, 8, 3, 9, 5, 0])"
   ]
  },
  {
   "cell_type": "markdown",
   "metadata": {},
   "source": [
    "### In place and in one function\n",
    "The idea is to keep all numbers higher than pivot on the right and the numbers lower than ppivot on the left, and then continue until the list is small"
   ]
  },
  {
   "cell_type": "code",
   "execution_count": null,
   "metadata": {},
   "outputs": [],
   "source": [
    "def quick_sort(arr, first, last):\n",
    "    low = first\n",
    "    high = last\n",
    "    partition = arr[(low+high)//2]\n",
    "    while low <= high:\n",
    "        while arr[low] < partition:\n",
    "            low += 1\n",
    "        while arr[high] > partition:\n",
    "            high -= 1\n",
    "        if low <= high:\n",
    "            arr[low], arr[high] = arr[high], arr[low]\n",
    "            low += 1\n",
    "            high -= 1\n",
    "        print(low, high, arr)\n",
    "    if first < high:\n",
    "        print(\"starting left\", arr, first, high)\n",
    "        quick_sort(arr, first, high)\n",
    "    if last > low:\n",
    "        print(\"starting right\", arr, low, last)\n",
    "        quick_sort(arr, low, last)\n",
    "    return arr\n",
    "\n",
    "quick_sort([2, 8, 1, 9, 3], 0, 4)"
   ]
  },
  {
   "cell_type": "markdown",
   "metadata": {},
   "source": [
    "### In two functions with partition\n",
    "The idea is to keep the pivot safe first, and then separate the numbers lower and higher than the pivot to the left and the right. Afterward, the index of this separation point is determined and the pivot is swapped in. This is repeated with the left and right sides, ignoring the pivot."
   ]
  },
  {
   "cell_type": "code",
   "execution_count": null,
   "metadata": {},
   "outputs": [],
   "source": [
    "def Partition(Arr: list, First: int, Last: int) -> int:\n",
    "\n",
    "    PivotValue = Arr[First]\n",
    "    LeftMark = First + 1\n",
    "    RightMark = Last\n",
    "    Done = False\n",
    "\n",
    "    while not Done:\n",
    "        while LeftMark <= RightMark and Arr[LeftMark] <= PivotValue:\n",
    "            LeftMark += 1\n",
    "        while LeftMark <= RightMark and Arr[RightMark] >= PivotValue:\n",
    "            RightMark -= 1\n",
    "        if LeftMark > RightMark:\n",
    "            Done = True\n",
    "        else:\n",
    "            Arr[LeftMark], Arr[RightMark] = Arr[RightMark], Arr[LeftMark]\n",
    "    \n",
    "    Arr[First], Arr[RightMark] = Arr[RightMark], Arr[First]\n",
    "    \n",
    "    return RightMark\n",
    "\n",
    "def QuickSort(Array: list, First: int, Last: int) -> list:\n",
    "    if First < Last:\n",
    "        SplitPoint = Partition(Array, First, Last)\n",
    "        QuickSort(Array, First, SplitPoint - 1)\n",
    "        QuickSort(Array, SplitPoint+1, Last)\n",
    "    return Array\n",
    "\n",
    "QuickSort([42, 103, 76, 92, 32], 0, 4)"
   ]
  },
  {
   "cell_type": "code",
   "execution_count": null,
   "metadata": {},
   "outputs": [],
   "source": [
    "def Partition(Arr: list, First: int, Last: int) -> int:\n",
    "    print(\"Find partition from index\", First, \"to\", Last)\n",
    "    print(\"|{:<10}|{:<10}|{:<10}|{:<10}|{:<10}\".format(\"PivotValue\", \"Left\", \"Right\", \"Done\", \"Array\"))\n",
    "    row = ''\n",
    "\n",
    "    PivotValue = Arr[First]\n",
    "    LeftMark = First + 1\n",
    "    RightMark = Last\n",
    "    Done = False\n",
    "\n",
    "    row += '|{:<10}|{:<10}|{:<10}|{:<10}|{:<10}'.format(PivotValue, LeftMark, RightMark, str(Done), (str(Arr) + '\\n'))\n",
    "    print('{:<10}'.format(str(Arr)+'\\n'), end='')\n",
    "    while not Done:\n",
    "        while LeftMark <= RightMark and Arr[LeftMark] <= PivotValue:\n",
    "            LeftMark += 1\n",
    "            row += '|{:<10}|{:<10}|{:<10}|{:<10}|{:<10}\\n'.format('', LeftMark, '', '', '')\n",
    "        while LeftMark <= RightMark and Arr[RightMark] >= PivotValue:\n",
    "            RightMark -= 1\n",
    "            row += '|{:<10}|{:<10}|{:<10}|{:<10}|{:<10}\\n'.format('', '', RightMark, '', '')\n",
    "        if LeftMark > RightMark:\n",
    "            Done = True\n",
    "        else:\n",
    "            Arr[LeftMark], Arr[RightMark] = Arr[RightMark], Arr[LeftMark]\n",
    "        row += '|{:<10}|{:<10}|{:<10}|{:<10}|{:<10}\\n'.format('', '', '', str(Done), str(Arr))\n",
    "    \n",
    "    Arr[First], Arr[RightMark] = Arr[RightMark], Arr[First]\n",
    "    row += '|{:<10}|{:<10}|{:<10}|{:<10}|{:<10}\\n'.format('', '', '', '', str(Arr))\n",
    "    print(row)\n",
    "    print(\"Partition at index\", RightMark, \"containing value\", Arr[RightMark], \"\\n\")\n",
    "    return RightMark\n",
    "\n",
    "def QuickSort(Array: list, First: int, Last: int) -> list:\n",
    "    if First < Last:\n",
    "        SplitPoint = Partition(Array, First, Last)\n",
    "        QuickSort(Array, First, SplitPoint - 1)\n",
    "        QuickSort(Array, SplitPoint+1, Last)\n",
    "    return Array\n",
    "\n",
    "QuickSort([42, 103, 76, 92, 32], 0, 4)"
   ]
  },
  {
   "cell_type": "markdown",
   "metadata": {},
   "source": [
    "# Searching Algorithms"
   ]
  },
  {
   "cell_type": "markdown",
   "metadata": {},
   "source": [
    "## Linear Search"
   ]
  },
  {
   "cell_type": "code",
   "execution_count": null,
   "metadata": {},
   "outputs": [],
   "source": [
    "def linear_search(arr, item):\n",
    "    for index, element in enumerate(arr):\n",
    "        if element == item:\n",
    "            return f\"Item found at position {index+1}.\"\n",
    "    return \"Item not found.\"\n",
    "\n",
    "linear_search([1, 2, 4, 9, 10, 12, 14], 15)"
   ]
  },
  {
   "cell_type": "markdown",
   "metadata": {},
   "source": [
    "## Binary Search"
   ]
  },
  {
   "cell_type": "markdown",
   "metadata": {},
   "source": [
    "### Iterative"
   ]
  },
  {
   "cell_type": "code",
   "execution_count": 8,
   "metadata": {},
   "outputs": [
    {
     "data": {
      "text/plain": [
       "'Item not found'"
      ]
     },
     "execution_count": 8,
     "metadata": {},
     "output_type": "execute_result"
    }
   ],
   "source": [
    "def binary_search(arr, item):\n",
    "    low = 0\n",
    "    high = len(arr) - 1\n",
    "    while low <= high:\n",
    "        mid = (low+high)//2\n",
    "        if arr[mid] == item:\n",
    "            return f\"Item found at position {mid+1}.\"\n",
    "        if item < arr[mid]:\n",
    "            high = mid-1\n",
    "        else:\n",
    "            low = mid+1\n",
    "    return \"Item not found\"\n",
    "            \n",
    "binary_search([1, 2, 4, 9, 10, 12, 14], 20)"
   ]
  },
  {
   "cell_type": "markdown",
   "metadata": {},
   "source": [
    "### Recursive"
   ]
  },
  {
   "cell_type": "code",
   "execution_count": null,
   "metadata": {},
   "outputs": [],
   "source": [
    "def binary_search(arr, item, low, high):\n",
    "    if low > high:\n",
    "        return \"Item not found\"\n",
    "    mid = (low+high)//2\n",
    "    if item == arr[mid]:\n",
    "        return f\"Item found at position {mid+1}.\"\n",
    "    if item < arr[mid]:\n",
    "        return binary_search(arr, item, low, mid-1)\n",
    "    else:\n",
    "        return binary_search(arr, item, mid+1, high)\n",
    "binary_search([1, 2, 4, 9, 10, 12, 14], 14, 0, 6)"
   ]
  },
  {
   "cell_type": "markdown",
   "metadata": {},
   "source": [
    "# Data Conversions"
   ]
  },
  {
   "cell_type": "markdown",
   "metadata": {},
   "source": [
    "## Denary to specified base"
   ]
  },
  {
   "cell_type": "code",
   "execution_count": 10,
   "metadata": {},
   "outputs": [
    {
     "data": {
      "text/plain": [
       "'11'"
      ]
     },
     "execution_count": 10,
     "metadata": {},
     "output_type": "execute_result"
    }
   ],
   "source": [
    "def denary_converter(denary: int, base: int):\n",
    "    if len(str(denary)) == 0 or not str(denary).isnumeric() or len(str(base)) == 0 or not str(base).isnumeric() or base > 24:\n",
    "        return False\n",
    "    output = []\n",
    "    denary = int(denary)\n",
    "    base = int(base)\n",
    "    while denary != 0:\n",
    "        remainder = denary%base\n",
    "        denary = (denary-remainder)/base\n",
    "        if remainder >= 10:\n",
    "            output.insert(0, chr(remainder-10+65))\n",
    "        else:\n",
    "            output.insert(0, str(int(remainder)))\n",
    "    if output:\n",
    "        return \"\".join(output)\n",
    "    return 0\n",
    "\n",
    "denary_converter(17, 16)"
   ]
  },
  {
   "cell_type": "markdown",
   "metadata": {},
   "source": [
    "## Specified base to denary"
   ]
  },
  {
   "cell_type": "code",
   "execution_count": null,
   "metadata": {},
   "outputs": [],
   "source": [
    "def to_denary_converter(item, base):\n",
    "    if len(str(item)) == 0 or not str(item).isalnum() or len(str(base)) == 0 or not str(base).isnumeric() or base>16:\n",
    "        return False\n",
    "    hex = ['A', 'B', 'C', 'D', 'E', 'F']\n",
    "    output = 0\n",
    "    item = str(item)\n",
    "    base = int(base)\n",
    "    for index, char in enumerate(item[::-1]):\n",
    "        if not char.isnumeric():\n",
    "            char = 10+hex.index(char)\n",
    "        output += int(char)*(base**index)\n",
    "    if output:\n",
    "        return output\n",
    "    return 0\n",
    "\n",
    "to_denary_converter('1BCEE', 16)"
   ]
  }
 ],
 "metadata": {
  "kernelspec": {
   "display_name": "Python 3.7.9 64-bit (microsoft store)",
   "language": "python",
   "name": "python3"
  },
  "language_info": {
   "codemirror_mode": {
    "name": "ipython",
    "version": 3
   },
   "file_extension": ".py",
   "mimetype": "text/x-python",
   "name": "python",
   "nbconvert_exporter": "python",
   "pygments_lexer": "ipython3",
   "version": "3.6.4"
  },
  "orig_nbformat": 4,
  "vscode": {
   "interpreter": {
    "hash": "b1b5f54e4835e6e96295ff4f9b2e3106cd88f1d758fc4bd43ae981ee911efc60"
   }
  }
 },
 "nbformat": 4,
 "nbformat_minor": 2
}
