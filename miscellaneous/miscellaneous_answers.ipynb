{
 "cells": [
  {
   "cell_type": "markdown",
   "metadata": {},
   "source": [
    "# Opening files"
   ]
  },
  {
   "cell_type": "markdown",
   "metadata": {},
   "source": [
    "### Text files\n",
    "1. Open, Read, Print, Close (readdummy.txt)\n",
    "2. Open, Write, Print, Close (writedummy.txt)\n",
    "3. Open, Append, Print, Close (append readdummy.txt to writedummy.txt)"
   ]
  },
  {
   "cell_type": "code",
   "execution_count": null,
   "metadata": {},
   "outputs": [],
   "source": [
    "infile = open('readdummy.txt', 'r')\n",
    "data = infile.read().strip().split(\"\\n\")\n",
    "processed_data = [x.strip().split(\",\") for x in data]\n",
    "print(processed_data)\n",
    "infile.close()"
   ]
  },
  {
   "cell_type": "code",
   "execution_count": null,
   "metadata": {},
   "outputs": [],
   "source": [
    "outfile = open(\"writedummy.txt\", \"w\")\n",
    "output = \"\\n\".join([\",\".join(x) for x in processed_data])\n",
    "outfile.write(output)\n",
    "outfile.close()"
   ]
  },
  {
   "cell_type": "code",
   "execution_count": null,
   "metadata": {},
   "outputs": [],
   "source": [
    "outfile = open(\"writedummy.txt\", \"a\")\n",
    "outfile.write(\"\\n\" + output)\n",
    "outfile.close()"
   ]
  },
  {
   "cell_type": "markdown",
   "metadata": {},
   "source": [
    "### CSV files\n",
    "CSV stands for comma separated values. They can be processed like they are normal txt files, or the csv library can be used.\n",
    "1. Open, Read, Print, Close (readdummy.csv)\n",
    "2. Open, Write, Print, Close (writedummy.csv)\n",
    "3. Open, Append, Print, Close (append readdummy.csv to writedummy.csv)"
   ]
  },
  {
   "cell_type": "code",
   "execution_count": null,
   "metadata": {},
   "outputs": [],
   "source": []
  },
  {
   "cell_type": "markdown",
   "metadata": {},
   "source": [
    "# Data formatting"
   ]
  },
  {
   "cell_type": "markdown",
   "metadata": {},
   "source": [
    "### Significant Figures"
   ]
  },
  {
   "cell_type": "code",
   "execution_count": null,
   "metadata": {},
   "outputs": [],
   "source": [
    "number = 123456789.987654321\n",
    "print(f\"{number:<.3g}\")"
   ]
  },
  {
   "cell_type": "markdown",
   "metadata": {},
   "source": [
    "### Decimal places"
   ]
  },
  {
   "cell_type": "code",
   "execution_count": null,
   "metadata": {},
   "outputs": [],
   "source": [
    "number = 123456789.987654321\n",
    "print(f\"{number:.3f}\")"
   ]
  },
  {
   "cell_type": "markdown",
   "metadata": {},
   "source": [
    "### Decimal places and significant figures with align in a table!\n",
    "Try to replicate:\n",
    "\n",
    "1.235e+08&emsp;| \n",
    "\n",
    "where the space before the vertical line is 20 characters long and the initial number = 123456789.987654321"
   ]
  },
  {
   "cell_type": "code",
   "execution_count": null,
   "metadata": {},
   "outputs": [],
   "source": [
    "number = 123456789.987654321\n",
    "print(f\"{number:<20.4g}|\")\n",
    "# for centre and right align it is ^ and >\n",
    "\n",
    "# alternatively, there is rjust(), ljust() and centre()\n",
    "print(f\"{number:.4g}\".ljust(20, \" \"), end=\"|\")"
   ]
  },
  {
   "cell_type": "markdown",
   "metadata": {},
   "source": [
    "Now try to replicate:\n",
    "\n",
    "xxxxx1.235e+08xxxxxx\n",
    "\n",
    "from number = 123456789.987654321"
   ]
  },
  {
   "cell_type": "code",
   "execution_count": null,
   "metadata": {},
   "outputs": [],
   "source": [
    "number = 123456789.987654321\n",
    "print(f\"{number:x^20.4g}\")\n",
    "# or\n",
    "print(f\"{number:.4g}\".center(20, \"x\"))\n",
    "# Note: if the fillers are full stops or special characters, the first method will not work"
   ]
  },
  {
   "cell_type": "markdown",
   "metadata": {},
   "source": [
    "# Handling data"
   ]
  },
  {
   "cell_type": "markdown",
   "metadata": {},
   "source": [
    "### Test cases for\n",
    "- normal data\n",
    "- abnormal data\n",
    "- extreme data"
   ]
  },
  {
   "cell_type": "markdown",
   "metadata": {},
   "source": [
    "### Data validation\n",
    "- range check \n",
    "- format check \n",
    "- length check \n",
    "- presence check \n",
    "- check digit "
   ]
  },
  {
   "cell_type": "markdown",
   "metadata": {},
   "source": [
    "# Not in syllabus"
   ]
  },
  {
   "cell_type": "markdown",
   "metadata": {},
   "source": [
    "### Timeit module\n",
    "\n",
    "Time this function 1000000 times:\n",
    "- Once\n",
    "- And repeating it"
   ]
  },
  {
   "cell_type": "code",
   "execution_count": null,
   "metadata": {},
   "outputs": [],
   "source": [
    "def test():\n",
    "    \"-\".join(str(n) for n in range(100000))"
   ]
  },
  {
   "cell_type": "code",
   "execution_count": null,
   "metadata": {},
   "outputs": [],
   "source": [
    "import timeit\n",
    "print(timeit.timeit(lambda: test, number=1000000))\n",
    "print(timeit.repeat(lambda: test, repeat=10, number=1000000))"
   ]
  },
  {
   "cell_type": "markdown",
   "metadata": {},
   "source": [
    "### Random module\n",
    "- Integer\n",
    "- Float\n",
    "- From list"
   ]
  },
  {
   "cell_type": "code",
   "execution_count": null,
   "metadata": {},
   "outputs": [],
   "source": [
    "import random\n",
    "\n",
    "random_integer = random.randint(1, 100)\n",
    "random_float = random.random()\n",
    "CHOICES = ['RED', 'GREEN', 'ORANGE', 'BLUE', 'YELLOW', 'VIOLET', 'INDIGO']\n",
    "random_choice = random.choice(CHOICES)\n",
    "print(random_integer)\n",
    "print(random_float)\n",
    "print(random_choice)"
   ]
  },
  {
   "cell_type": "markdown",
   "metadata": {},
   "source": [
    "### Help function"
   ]
  },
  {
   "cell_type": "code",
   "execution_count": null,
   "metadata": {},
   "outputs": [],
   "source": [
    "import math\n",
    "help(math)\n",
    "import socket\n",
    "help(socket.socket())\n",
    "#and so on"
   ]
  }
 ],
 "metadata": {
  "kernelspec": {
   "display_name": ".venv",
   "language": "python",
   "name": "python3"
  },
  "language_info": {
   "codemirror_mode": {
    "name": "ipython",
    "version": 3
   },
   "file_extension": ".py",
   "mimetype": "text/x-python",
   "name": "python",
   "nbconvert_exporter": "python",
   "pygments_lexer": "ipython3",
   "version": "3.6.4"
  },
  "orig_nbformat": 4
 },
 "nbformat": 4,
 "nbformat_minor": 2
}
